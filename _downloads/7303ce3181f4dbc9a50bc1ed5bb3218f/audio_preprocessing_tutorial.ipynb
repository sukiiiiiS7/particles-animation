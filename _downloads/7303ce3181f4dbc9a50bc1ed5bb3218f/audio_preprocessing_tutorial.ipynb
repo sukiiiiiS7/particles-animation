{
  "cells": [
    {
      "cell_type": "code",
      "execution_count": 1,
      "metadata": {
        "id": "DIMGQWI3224Z"
      },
      "outputs": [],
      "source": [
        "%matplotlib inline"
      ]
    },
    {
      "cell_type": "markdown",
      "metadata": {
        "id": "RbWvrxpV224Z"
      },
      "source": [
        "\n",
        "Audio manipulation with torchaudio\n",
        "==================================\n",
        "\n",
        "``torchaudio`` provides powerful audio I/O functions, preprocessing\n",
        "transforms and dataset.\n",
        "\n",
        "In this tutorial, we will look into how to prepare audio data and\n",
        "extract features that can be fed to NN models.\n",
        "\n",
        "\n"
      ]
    },
    {
      "cell_type": "code",
      "execution_count": 2,
      "metadata": {
        "id": "fxRJQbE2224a",
        "outputId": "9b7a1e73-002f-48e0-d9a1-157545c03e72",
        "colab": {
          "base_uri": "https://localhost:8080/"
        }
      },
      "outputs": [
        {
          "output_type": "stream",
          "name": "stdout",
          "text": [
            "2.5.1+cu124\n",
            "2.5.1+cu124\n"
          ]
        }
      ],
      "source": [
        "# When running this tutorial in Google Colab, install the required packages\n",
        "# with the following.\n",
        "# !pip install torchaudio librosa boto3\n",
        "\n",
        "import torch\n",
        "import torchaudio\n",
        "import torchaudio.functional as F\n",
        "import torchaudio.transforms as T\n",
        "\n",
        "print(torch.__version__)\n",
        "print(torchaudio.__version__)"
      ]
    },
    {
      "cell_type": "markdown",
      "metadata": {
        "id": "KaWX_XN5224a"
      },
      "source": [
        "Preparing data and utility functions (skip this section)\n",
        "--------------------------------------------------------\n",
        "\n",
        "\n"
      ]
    },
    {
      "cell_type": "code",
      "execution_count": null,
      "metadata": {
        "id": "VsO5TsBf224b"
      },
      "outputs": [],
      "source": [
        "#@title Prepare data and utility functions. {display-mode: \"form\"}\n",
        "#@markdown\n",
        "#@markdown You do not need to look into this cell.\n",
        "#@markdown Just execute once and you are good to go.\n",
        "#@markdown\n",
        "#@markdown In this tutorial, we will use a speech data from [VOiCES dataset](https://iqtlabs.github.io/voices/), which is licensed under Creative Commos BY 4.0.\n",
        "\n",
        "#-------------------------------------------------------------------------------\n",
        "# Preparation of data and helper functions.\n",
        "#-------------------------------------------------------------------------------\n",
        "import io\n",
        "import os\n",
        "import math\n",
        "import tarfile\n",
        "import multiprocessing\n",
        "\n",
        "import scipy\n",
        "import librosa\n",
        "import boto3\n",
        "from botocore import UNSIGNED\n",
        "from botocore.config import Config\n",
        "import requests\n",
        "import matplotlib\n",
        "import matplotlib.pyplot as plt\n",
        "import pandas as pd\n",
        "import time\n",
        "from IPython.display import Audio, display\n",
        "\n",
        "[width, height] = matplotlib.rcParams['figure.figsize']\n",
        "if width < 10:\n",
        "  matplotlib.rcParams['figure.figsize'] = [width * 2.5, height]\n",
        "\n",
        "_SAMPLE_DIR = \"_sample_data\"\n",
        "SAMPLE_WAV_URL = \"https://pytorch-tutorial-assets.s3.amazonaws.com/steam-train-whistle-daniel_simon.wav\"\n",
        "SAMPLE_WAV_PATH = os.path.join(_SAMPLE_DIR, \"steam.wav\")\n",
        "\n",
        "SAMPLE_WAV_SPEECH_URL = \"https://pytorch-tutorial-assets.s3.amazonaws.com/VOiCES_devkit/source-16k/train/sp0307/Lab41-SRI-VOiCES-src-sp0307-ch127535-sg0042.wav\"\n",
        "SAMPLE_WAV_SPEECH_PATH = os.path.join(_SAMPLE_DIR, \"speech.wav\")\n",
        "\n",
        "SAMPLE_RIR_URL = \"https://pytorch-tutorial-assets.s3.amazonaws.com/VOiCES_devkit/distant-16k/room-response/rm1/impulse/Lab41-SRI-VOiCES-rm1-impulse-mc01-stu-clo.wav\"\n",
        "SAMPLE_RIR_PATH = os.path.join(_SAMPLE_DIR, \"rir.wav\")\n",
        "\n",
        "SAMPLE_NOISE_URL = \"https://pytorch-tutorial-assets.s3.amazonaws.com/VOiCES_devkit/distant-16k/distractors/rm1/babb/Lab41-SRI-VOiCES-rm1-babb-mc01-stu-clo.wav\"\n",
        "SAMPLE_NOISE_PATH = os.path.join(_SAMPLE_DIR, \"bg.wav\")\n",
        "\n",
        "SAMPLE_MP3_URL = \"https://pytorch-tutorial-assets.s3.amazonaws.com/steam-train-whistle-daniel_simon.mp3\"\n",
        "SAMPLE_MP3_PATH = os.path.join(_SAMPLE_DIR, \"steam.mp3\")\n",
        "\n",
        "SAMPLE_GSM_URL = \"https://pytorch-tutorial-assets.s3.amazonaws.com/steam-train-whistle-daniel_simon.gsm\"\n",
        "SAMPLE_GSM_PATH = os.path.join(_SAMPLE_DIR, \"steam.gsm\")\n",
        "\n",
        "SAMPLE_TAR_URL = \"https://pytorch-tutorial-assets.s3.amazonaws.com/VOiCES_devkit.tar.gz\"\n",
        "SAMPLE_TAR_PATH = os.path.join(_SAMPLE_DIR, \"sample.tar.gz\")\n",
        "SAMPLE_TAR_ITEM = \"VOiCES_devkit/source-16k/train/sp0307/Lab41-SRI-VOiCES-src-sp0307-ch127535-sg0042.wav\"\n",
        "\n",
        "S3_BUCKET = \"pytorch-tutorial-assets\"\n",
        "S3_KEY = \"VOiCES_devkit/source-16k/train/sp0307/Lab41-SRI-VOiCES-src-sp0307-ch127535-sg0042.wav\"\n",
        "\n",
        "YESNO_DATASET_PATH = os.path.join(_SAMPLE_DIR, \"yes_no\")\n",
        "os.makedirs(YESNO_DATASET_PATH, exist_ok=True)\n",
        "os.makedirs(_SAMPLE_DIR, exist_ok=True)\n",
        "\n",
        "def _fetch_data():\n",
        "  uri = [\n",
        "    (SAMPLE_WAV_URL, SAMPLE_WAV_PATH),\n",
        "    (SAMPLE_WAV_SPEECH_URL, SAMPLE_WAV_SPEECH_PATH),\n",
        "    (SAMPLE_RIR_URL, SAMPLE_RIR_PATH),\n",
        "    (SAMPLE_NOISE_URL, SAMPLE_NOISE_PATH),\n",
        "    (SAMPLE_MP3_URL, SAMPLE_MP3_PATH),\n",
        "    (SAMPLE_GSM_URL, SAMPLE_GSM_PATH),\n",
        "    (SAMPLE_TAR_URL, SAMPLE_TAR_PATH),\n",
        "  ]\n",
        "  for url, path in uri:\n",
        "    with open(path, 'wb') as file_:\n",
        "      file_.write(requests.get(url).content)\n",
        "\n",
        "_fetch_data()\n",
        "\n",
        "def _download_yesno():\n",
        "  if os.path.exists(os.path.join(YESNO_DATASET_PATH, \"waves_yesno.tar.gz\")):\n",
        "    return\n",
        "  torchaudio.datasets.YESNO(root=YESNO_DATASET_PATH, download=True)\n",
        "\n",
        "YESNO_DOWNLOAD_PROCESS = multiprocessing.Process(target=_download_yesno)\n",
        "YESNO_DOWNLOAD_PROCESS.start()\n",
        "\n",
        "def _get_sample(path, resample=None):\n",
        "  effects = [\n",
        "    [\"remix\", \"1\"]\n",
        "  ]\n",
        "  if resample:\n",
        "    effects.extend([\n",
        "      [\"lowpass\", f\"{resample // 2}\"],\n",
        "      [\"rate\", f'{resample}'],\n",
        "    ])\n",
        "  return torchaudio.sox_effects.apply_effects_file(path, effects=effects)\n",
        "\n",
        "def get_speech_sample(*, resample=None):\n",
        "  return _get_sample(SAMPLE_WAV_SPEECH_PATH, resample=resample)\n",
        "\n",
        "def get_sample(*, resample=None):\n",
        "  return _get_sample(SAMPLE_WAV_PATH, resample=resample)\n",
        "\n",
        "def get_rir_sample(*, resample=None, processed=False):\n",
        "  rir_raw, sample_rate = _get_sample(SAMPLE_RIR_PATH, resample=resample)\n",
        "  if not processed:\n",
        "    return rir_raw, sample_rate\n",
        "  rir = rir_raw[:, int(sample_rate*1.01):int(sample_rate*1.3)]\n",
        "  rir = rir / torch.norm(rir, p=2)\n",
        "  rir = torch.flip(rir, [1])\n",
        "  return rir, sample_rate\n",
        "\n",
        "def get_noise_sample(*, resample=None):\n",
        "  return _get_sample(SAMPLE_NOISE_PATH, resample=resample)\n",
        "\n",
        "def print_stats(waveform, sample_rate=None, src=None):\n",
        "  if src:\n",
        "    print(\"-\" * 10)\n",
        "    print(\"Source:\", src)\n",
        "    print(\"-\" * 10)\n",
        "  if sample_rate:\n",
        "    print(\"Sample Rate:\", sample_rate)\n",
        "  print(\"Shape:\", tuple(waveform.shape))\n",
        "  print(\"Dtype:\", waveform.dtype)\n",
        "  print(f\" - Max:     {waveform.max().item():6.3f}\")\n",
        "  print(f\" - Min:     {waveform.min().item():6.3f}\")\n",
        "  print(f\" - Mean:    {waveform.mean().item():6.3f}\")\n",
        "  print(f\" - Std Dev: {waveform.std().item():6.3f}\")\n",
        "  print()\n",
        "  print(waveform)\n",
        "  print()\n",
        "\n",
        "def plot_waveform(waveform, sample_rate, title=\"Waveform\", xlim=None, ylim=None):\n",
        "  waveform = waveform.numpy()\n",
        "\n",
        "  num_channels, num_frames = waveform.shape\n",
        "  time_axis = torch.arange(0, num_frames) / sample_rate\n",
        "\n",
        "  figure, axes = plt.subplots(num_channels, 1)\n",
        "  if num_channels == 1:\n",
        "    axes = [axes]\n",
        "  for c in range(num_channels):\n",
        "    axes[c].plot(time_axis, waveform[c], linewidth=1)\n",
        "    axes[c].grid(True)\n",
        "    if num_channels > 1:\n",
        "      axes[c].set_ylabel(f'Channel {c+1}')\n",
        "    if xlim:\n",
        "      axes[c].set_xlim(xlim)\n",
        "    if ylim:\n",
        "      axes[c].set_ylim(ylim)\n",
        "  figure.suptitle(title)\n",
        "  plt.show(block=False)\n",
        "\n",
        "def plot_specgram(waveform, sample_rate, title=\"Spectrogram\", xlim=None):\n",
        "  waveform = waveform.numpy()\n",
        "\n",
        "  num_channels, num_frames = waveform.shape\n",
        "  time_axis = torch.arange(0, num_frames) / sample_rate\n",
        "\n",
        "  figure, axes = plt.subplots(num_channels, 1)\n",
        "  if num_channels == 1:\n",
        "    axes = [axes]\n",
        "  for c in range(num_channels):\n",
        "    axes[c].specgram(waveform[c], Fs=sample_rate)\n",
        "    if num_channels > 1:\n",
        "      axes[c].set_ylabel(f'Channel {c+1}')\n",
        "    if xlim:\n",
        "      axes[c].set_xlim(xlim)\n",
        "  figure.suptitle(title)\n",
        "  plt.show(block=False)\n",
        "\n",
        "def play_audio(waveform, sample_rate):\n",
        "  waveform = waveform.numpy()\n",
        "\n",
        "  num_channels, num_frames = waveform.shape\n",
        "  if num_channels == 1:\n",
        "    display(Audio(waveform[0], rate=sample_rate))\n",
        "  elif num_channels == 2:\n",
        "    display(Audio((waveform[0], waveform[1]), rate=sample_rate))\n",
        "  else:\n",
        "    raise ValueError(\"Waveform with more than 2 channels are not supported.\")\n",
        "\n",
        "def inspect_file(path):\n",
        "  print(\"-\" * 10)\n",
        "  print(\"Source:\", path)\n",
        "  print(\"-\" * 10)\n",
        "  print(f\" - File size: {os.path.getsize(path)} bytes\")\n",
        "  print(f\" - {torchaudio.info(path)}\")\n",
        "\n",
        "def plot_spectrogram(spec, title=None, ylabel='freq_bin', aspect='auto', xmax=None):\n",
        "  fig, axs = plt.subplots(1, 1)\n",
        "  axs.set_title(title or 'Spectrogram (db)')\n",
        "  axs.set_ylabel(ylabel)\n",
        "  axs.set_xlabel('frame')\n",
        "  im = axs.imshow(librosa.power_to_db(spec), origin='lower', aspect=aspect)\n",
        "  if xmax:\n",
        "    axs.set_xlim((0, xmax))\n",
        "  fig.colorbar(im, ax=axs)\n",
        "  plt.show(block=False)\n",
        "\n",
        "def plot_mel_fbank(fbank, title=None):\n",
        "  fig, axs = plt.subplots(1, 1)\n",
        "  axs.set_title(title or 'Filter bank')\n",
        "  axs.imshow(fbank, aspect='auto')\n",
        "  axs.set_ylabel('frequency bin')\n",
        "  axs.set_xlabel('mel bin')\n",
        "  plt.show(block=False)\n",
        "\n",
        "def get_spectrogram(\n",
        "    n_fft = 400,\n",
        "    win_len = None,\n",
        "    hop_len = None,\n",
        "    power = 2.0,\n",
        "):\n",
        "  waveform, _ = get_speech_sample()\n",
        "  spectrogram = T.Spectrogram(\n",
        "      n_fft=n_fft,\n",
        "      win_length=win_len,\n",
        "      hop_length=hop_len,\n",
        "      center=True,\n",
        "      pad_mode=\"reflect\",\n",
        "      power=power,\n",
        "  )\n",
        "  return spectrogram(waveform)\n",
        "\n",
        "def plot_pitch(waveform, sample_rate, pitch):\n",
        "  figure, axis = plt.subplots(1, 1)\n",
        "  axis.set_title(\"Pitch Feature\")\n",
        "  axis.grid(True)\n",
        "\n",
        "  end_time = waveform.shape[1] / sample_rate\n",
        "  time_axis = torch.linspace(0, end_time,  waveform.shape[1])\n",
        "  axis.plot(time_axis, waveform[0], linewidth=1, color='gray', alpha=0.3)\n",
        "\n",
        "  axis2 = axis.twinx()\n",
        "  time_axis = torch.linspace(0, end_time, pitch.shape[1])\n",
        "  ln2 = axis2.plot(\n",
        "      time_axis, pitch[0], linewidth=2, label='Pitch', color='green')\n",
        "\n",
        "  axis2.legend(loc=0)\n",
        "  plt.show(block=False)\n",
        "\n",
        "def plot_kaldi_pitch(waveform, sample_rate, pitch, nfcc):\n",
        "  figure, axis = plt.subplots(1, 1)\n",
        "  axis.set_title(\"Kaldi Pitch Feature\")\n",
        "  axis.grid(True)\n",
        "\n",
        "  end_time = waveform.shape[1] / sample_rate\n",
        "  time_axis = torch.linspace(0, end_time,  waveform.shape[1])\n",
        "  axis.plot(time_axis, waveform[0], linewidth=1, color='gray', alpha=0.3)\n",
        "\n",
        "  time_axis = torch.linspace(0, end_time, pitch.shape[1])\n",
        "  ln1 = axis.plot(time_axis, pitch[0], linewidth=2, label='Pitch', color='green')\n",
        "  axis.set_ylim((-1.3, 1.3))\n",
        "\n",
        "  axis2 = axis.twinx()\n",
        "  time_axis = torch.linspace(0, end_time, nfcc.shape[1])\n",
        "  ln2 = axis2.plot(\n",
        "      time_axis, nfcc[0], linewidth=2, label='NFCC', color='blue', linestyle='--')\n",
        "\n",
        "  lns = ln1 + ln2\n",
        "  labels = [l.get_label() for l in lns]\n",
        "  axis.legend(lns, labels, loc=0)\n",
        "  plt.show(block=False)\n",
        "\n",
        "DEFAULT_OFFSET = 201\n",
        "SWEEP_MAX_SAMPLE_RATE = 48000\n",
        "DEFAULT_LOWPASS_FILTER_WIDTH = 6\n",
        "DEFAULT_ROLLOFF = 0.99\n",
        "DEFAULT_RESAMPLING_METHOD = 'sinc_interpolation'\n",
        "\n",
        "def _get_log_freq(sample_rate, max_sweep_rate, offset):\n",
        "  \"\"\"Get freqs evenly spaced out in log-scale, between [0, max_sweep_rate // 2]\n",
        "\n",
        "  offset is used to avoid negative infinity `log(offset + x)`.\n",
        "\n",
        "  \"\"\"\n",
        "  half = sample_rate // 2\n",
        "  start, stop = math.log(offset), math.log(offset + max_sweep_rate // 2)\n",
        "  return torch.exp(torch.linspace(start, stop, sample_rate, dtype=torch.double)) - offset\n",
        "\n",
        "def _get_inverse_log_freq(freq, sample_rate, offset):\n",
        "  \"\"\"Find the time where the given frequency is given by _get_log_freq\"\"\"\n",
        "  half = sample_rate // 2\n",
        "  return sample_rate * (math.log(1 + freq / offset) / math.log(1 + half / offset))\n",
        "\n",
        "def _get_freq_ticks(sample_rate, offset, f_max):\n",
        "  # Given the original sample rate used for generating the sweep,\n",
        "  # find the x-axis value where the log-scale major frequency values fall in\n",
        "  time, freq = [], []\n",
        "  for exp in range(2, 5):\n",
        "    for v in range(1, 10):\n",
        "      f = v * 10 ** exp\n",
        "      if f < sample_rate // 2:\n",
        "        t = _get_inverse_log_freq(f, sample_rate, offset) / sample_rate\n",
        "        time.append(t)\n",
        "        freq.append(f)\n",
        "  t_max = _get_inverse_log_freq(f_max, sample_rate, offset) / sample_rate\n",
        "  time.append(t_max)\n",
        "  freq.append(f_max)\n",
        "  return time, freq\n",
        "\n",
        "def plot_sweep(waveform, sample_rate, title, max_sweep_rate=SWEEP_MAX_SAMPLE_RATE, offset=DEFAULT_OFFSET):\n",
        "  x_ticks = [100, 500, 1000, 5000, 10000, 20000, max_sweep_rate // 2]\n",
        "  y_ticks = [1000, 5000, 10000, 20000, sample_rate//2]\n",
        "\n",
        "  time, freq = _get_freq_ticks(max_sweep_rate, offset, sample_rate // 2)\n",
        "  freq_x = [f if f in x_ticks and f <= max_sweep_rate // 2 else None for f in freq]\n",
        "  freq_y = [f for f in freq if f >= 1000 and f in y_ticks and f <= sample_rate // 2]\n",
        "\n",
        "  figure, axis = plt.subplots(1, 1)\n",
        "  axis.specgram(waveform[0].numpy(), Fs=sample_rate)\n",
        "  plt.xticks(time, freq_x)\n",
        "  plt.yticks(freq_y, freq_y)\n",
        "  axis.set_xlabel('Original Signal Frequency (Hz, log scale)')\n",
        "  axis.set_ylabel('Waveform Frequency (Hz)')\n",
        "  axis.xaxis.grid(True, alpha=0.67)\n",
        "  axis.yaxis.grid(True, alpha=0.67)\n",
        "  figure.suptitle(f'{title} (sample rate: {sample_rate} Hz)')\n",
        "  plt.show(block=True)\n",
        "\n",
        "def get_sine_sweep(sample_rate, offset=DEFAULT_OFFSET):\n",
        "    max_sweep_rate = sample_rate\n",
        "    freq = _get_log_freq(sample_rate, max_sweep_rate, offset)\n",
        "    delta = 2 * math.pi * freq / sample_rate\n",
        "    cummulative = torch.cumsum(delta, dim=0)\n",
        "    signal = torch.sin(cummulative).unsqueeze(dim=0)\n",
        "    return signal\n",
        "\n",
        "def benchmark_resample(\n",
        "    method,\n",
        "    waveform,\n",
        "    sample_rate,\n",
        "    resample_rate,\n",
        "    lowpass_filter_width=DEFAULT_LOWPASS_FILTER_WIDTH,\n",
        "    rolloff=DEFAULT_ROLLOFF,\n",
        "    resampling_method=DEFAULT_RESAMPLING_METHOD,\n",
        "    beta=None,\n",
        "    librosa_type=None,\n",
        "    iters=5\n",
        "):\n",
        "  if method == \"functional\":\n",
        "    begin = time.time()\n",
        "    for _ in range(iters):\n",
        "      F.resample(waveform, sample_rate, resample_rate, lowpass_filter_width=lowpass_filter_width,\n",
        "                 rolloff=rolloff, resampling_method=resampling_method)\n",
        "    elapsed = time.time() - begin\n",
        "    return elapsed / iters\n",
        "  elif method == \"transforms\":\n",
        "    resampler = T.Resample(sample_rate, resample_rate, lowpass_filter_width=lowpass_filter_width,\n",
        "                           rolloff=rolloff, resampling_method=resampling_method, dtype=waveform.dtype)\n",
        "    begin = time.time()\n",
        "    for _ in range(iters):\n",
        "      resampler(waveform)\n",
        "    elapsed = time.time() - begin\n",
        "    return elapsed / iters\n",
        "  elif method == \"librosa\":\n",
        "    waveform_np = waveform.squeeze().numpy()\n",
        "    begin = time.time()\n",
        "    for _ in range(iters):\n",
        "      librosa.resample(waveform_np, sample_rate, resample_rate, res_type=librosa_type)\n",
        "    elapsed = time.time() - begin\n",
        "    return elapsed / iters"
      ]
    },
    {
      "cell_type": "markdown",
      "metadata": {
        "id": "cbhntmNS224c"
      },
      "source": [
        "Audio I/O\n",
        "=========\n",
        "\n",
        "torchaudio integrates ``libsox`` and provides a rich set of audio I/O.\n",
        "\n",
        "\n"
      ]
    },
    {
      "cell_type": "markdown",
      "metadata": {
        "id": "9uOhfVCv224c"
      },
      "source": [
        "Quering audio metadata\n",
        "----------------------\n",
        "\n",
        "``torchaudio.info`` function fetches metadata of audio. You can provide\n",
        "a path-like object or file-like object.\n",
        "\n",
        "\n"
      ]
    },
    {
      "cell_type": "code",
      "execution_count": 7,
      "metadata": {
        "id": "c1Ze3Usn224d",
        "outputId": "3124b1d5-855a-4512-8abd-7fea46d3dc78",
        "colab": {
          "base_uri": "https://localhost:8080/"
        }
      },
      "outputs": [
        {
          "output_type": "stream",
          "name": "stdout",
          "text": [
            "AudioMetaData(sample_rate=22050, num_frames=3889008, num_channels=2, bits_per_sample=16, encoding=PCM_S)\n"
          ]
        }
      ],
      "source": [
        "metadata = torchaudio.info(\"/content/DL.小任好困 Xy.BLUE 造梦师DreamMaker - 双生劫.mp3.WAV\")\n",
        "print(metadata)"
      ]
    },
    {
      "cell_type": "markdown",
      "metadata": {
        "id": "A_84x5Go224d"
      },
      "source": [
        "Where\n",
        "\n",
        "-  ``sample_rate`` is the sampling rate of the audio\n",
        "-  ``num_channels`` is the number of channels\n",
        "-  ``num_frames`` is the number of frames per channel\n",
        "-  ``bits_per_sample`` is bit depth\n",
        "-  ``encoding`` is the sample coding format\n",
        "\n",
        "The values ``encoding`` can take are one of the following\n",
        "\n",
        "-  ``\"PCM_S\"``: Signed integer linear PCM\n",
        "-  ``\"PCM_U\"``: Unsigned integer linear PCM\n",
        "-  ``\"PCM_F\"``: Floating point linear PCM\n",
        "-  ``\"FLAC\"``: Flac, `Free Lossless Audio\n",
        "   Codec <https://xiph.org/flac/>`__\n",
        "-  ``\"ULAW\"``: Mu-law,\n",
        "   [`wikipedia <https://en.wikipedia.org/wiki/%CE%9C-law_algorithm>`__]\n",
        "-  ``\"ALAW\"``: A-law\n",
        "   [`wikipedia <https://en.wikipedia.org/wiki/A-law_algorithm>`__]\n",
        "-  ``\"MP3\"`` : MP3, MPEG-1 Audio Layer III\n",
        "-  ``\"VORBIS\"``: OGG Vorbis [`xiph.org <https://xiph.org/vorbis/>`__]\n",
        "-  ``\"AMR_NB\"``: Adaptive Multi-Rate\n",
        "   [`wikipedia <https://en.wikipedia.org/wiki/Adaptive_Multi-Rate_audio_codec>`__]\n",
        "-  ``\"AMR_WB\"``: Adaptive Multi-Rate Wideband\n",
        "   [`wikipedia <https://en.wikipedia.org/wiki/Adaptive_Multi-Rate_Wideband>`__]\n",
        "-  ``\"OPUS\"``: Opus [`opus-codec.org <https://opus-codec.org/>`__]\n",
        "-  ``\"GSM\"``: GSM-FR\n",
        "   [`wikipedia <https://en.wikipedia.org/wiki/Full_Rate>`__]\n",
        "-  ``\"UNKNOWN\"`` None of above\n",
        "\n",
        "\n"
      ]
    },
    {
      "cell_type": "markdown",
      "metadata": {
        "id": "KKOiFA4H224d"
      },
      "source": [
        "**Note**\n",
        "\n",
        "-  ``bits_per_sample`` can be ``0`` for formats with compression and/or\n",
        "   variable bit rate (such as mp3).\n",
        "-  ``num_frames`` can be ``0`` for GSM-FR format.\n",
        "\n",
        "\n"
      ]
    },
    {
      "cell_type": "code",
      "execution_count": 8,
      "metadata": {
        "id": "BZYBT71P224d",
        "outputId": "e7cc566c-32e4-4934-e8fe-871502a4a4c7",
        "colab": {
          "base_uri": "https://localhost:8080/"
        }
      },
      "outputs": [
        {
          "output_type": "stream",
          "name": "stdout",
          "text": [
            "AudioMetaData(sample_rate=22050, num_frames=3889008, num_channels=2, bits_per_sample=16, encoding=PCM_S)\n",
            "AudioMetaData(sample_rate=22050, num_frames=3889008, num_channels=2, bits_per_sample=16, encoding=PCM_S)\n"
          ]
        }
      ],
      "source": [
        "metadata = torchaudio.info(\"/content/DL.小任好困 Xy.BLUE 造梦师DreamMaker - 双生劫.mp3.WAV\")\n",
        "print(metadata)\n",
        "\n",
        "metadata = torchaudio.info(\"/content/DL.小任好困 Xy.BLUE 造梦师DreamMaker - 双生劫.mp3.WAV\")\n",
        "print(metadata)"
      ]
    },
    {
      "cell_type": "markdown",
      "metadata": {
        "id": "bB5j0aTE224d"
      },
      "source": [
        "Querying file-like object\n",
        "~~~~~~~~~~~~~~~~~~~~~~~~~\n",
        "\n",
        "``info`` function works on file-like object as well.\n",
        "\n",
        "\n"
      ]
    },
    {
      "cell_type": "code",
      "execution_count": 10,
      "metadata": {
        "id": "U7b9wk8r224e",
        "outputId": "1be2f901-b721-4f36-9274-5397d8e052a0",
        "colab": {
          "base_uri": "https://localhost:8080/",
          "height": 211
        }
      },
      "outputs": [
        {
          "output_type": "stream",
          "name": "stdout",
          "text": [
            "Source: /content/DL.小任好困 Xy.BLUE 造梦师DreamMaker - 双生劫.mp3.WAV\n"
          ]
        },
        {
          "output_type": "error",
          "ename": "NameError",
          "evalue": "name 'requests' is not defined",
          "traceback": [
            "\u001b[0;31m---------------------------------------------------------------------------\u001b[0m",
            "\u001b[0;31mNameError\u001b[0m                                 Traceback (most recent call last)",
            "\u001b[0;32m<ipython-input-10-11a5de8c959c>\u001b[0m in \u001b[0;36m<cell line: 0>\u001b[0;34m()\u001b[0m\n\u001b[1;32m      1\u001b[0m \u001b[0mprint\u001b[0m\u001b[0;34m(\u001b[0m\u001b[0;34m\"Source:\"\u001b[0m\u001b[0;34m,\u001b[0m \u001b[0;34m\"/content/DL.小任好困 Xy.BLUE 造梦师DreamMaker - 双生劫.mp3.WAV\"\u001b[0m\u001b[0;34m)\u001b[0m\u001b[0;34m\u001b[0m\u001b[0;34m\u001b[0m\u001b[0m\n\u001b[0;32m----> 2\u001b[0;31m \u001b[0;32mwith\u001b[0m \u001b[0mrequests\u001b[0m\u001b[0;34m.\u001b[0m\u001b[0mget\u001b[0m\u001b[0;34m(\u001b[0m\u001b[0;34m\"/content/DL.小任好困 Xy.BLUE 造梦师DreamMaker - 双生劫.mp3.WAV\"\u001b[0m\u001b[0;34m,\u001b[0m \u001b[0mstream\u001b[0m\u001b[0;34m=\u001b[0m\u001b[0;32mTrue\u001b[0m\u001b[0;34m)\u001b[0m \u001b[0;32mas\u001b[0m \u001b[0mresponse\u001b[0m\u001b[0;34m:\u001b[0m\u001b[0;34m\u001b[0m\u001b[0;34m\u001b[0m\u001b[0m\n\u001b[0m\u001b[1;32m      3\u001b[0m   \u001b[0mmetadata\u001b[0m \u001b[0;34m=\u001b[0m \u001b[0mtorchaudio\u001b[0m\u001b[0;34m.\u001b[0m\u001b[0minfo\u001b[0m\u001b[0;34m(\u001b[0m\u001b[0mresponse\u001b[0m\u001b[0;34m.\u001b[0m\u001b[0mraw\u001b[0m\u001b[0;34m)\u001b[0m\u001b[0;34m\u001b[0m\u001b[0;34m\u001b[0m\u001b[0m\n\u001b[1;32m      4\u001b[0m \u001b[0mprint\u001b[0m\u001b[0;34m(\u001b[0m\u001b[0mmetadata\u001b[0m\u001b[0;34m)\u001b[0m\u001b[0;34m\u001b[0m\u001b[0;34m\u001b[0m\u001b[0m\n",
            "\u001b[0;31mNameError\u001b[0m: name 'requests' is not defined"
          ]
        }
      ],
      "source": [
        "print(\"Source:\", \"/content/DL.小任好困 Xy.BLUE 造梦师DreamMaker - 双生劫.mp3.WAV\")\n",
        "with requests.get(\"/content/DL.小任好困 Xy.BLUE 造梦师DreamMaker - 双生劫.mp3.WAV\", stream=True) as response:\n",
        "  metadata = torchaudio.info(response.raw)\n",
        "print(metadata)"
      ]
    },
    {
      "cell_type": "markdown",
      "metadata": {
        "id": "oHqMK6I5224e"
      },
      "source": [
        "**Note** When passing file-like object, ``info`` function does not read\n",
        "all the data, instead it only reads the beginning portion of data.\n",
        "Therefore, depending on the audio format, it cannot get the correct\n",
        "metadata, including the format itself. The following example illustrates\n",
        "this.\n",
        "\n",
        "-  Use ``format`` argument to tell what audio format it is.\n",
        "-  The returned metadata has ``num_frames = 0``\n",
        "\n",
        "\n"
      ]
    },
    {
      "cell_type": "code",
      "execution_count": null,
      "metadata": {
        "id": "16G-aO63224e"
      },
      "outputs": [],
      "source": [
        "print(\"Source:\", SAMPLE_MP3_URL)\n",
        "with requests.get(SAMPLE_MP3_URL, stream=True) as response:\n",
        "  metadata = torchaudio.info(response.raw, format=\"mp3\")\n",
        "\n",
        "  print(f\"Fetched {response.raw.tell()} bytes.\")\n",
        "print(metadata)"
      ]
    },
    {
      "cell_type": "markdown",
      "metadata": {
        "id": "WAKz2jUh224e"
      },
      "source": [
        "Loading audio data into Tensor\n",
        "------------------------------\n",
        "\n",
        "To load audio data, you can use ``torchaudio.load``.\n",
        "\n",
        "This function accepts path-like object and file-like object.\n",
        "\n",
        "The returned value is a tuple of waveform (``Tensor``) and sample rate\n",
        "(``int``).\n",
        "\n",
        "By default, the resulting tensor object has ``dtype=torch.float32`` and\n",
        "its value range is normalized within ``[-1.0, 1.0]``.\n",
        "\n",
        "For the list of supported format, please refer to `the torchaudio\n",
        "documentation <https://pytorch.org/audio>`__.\n",
        "\n",
        "\n"
      ]
    },
    {
      "cell_type": "code",
      "execution_count": null,
      "metadata": {
        "id": "p_5sUjfY224e"
      },
      "outputs": [],
      "source": [
        "waveform, sample_rate = torchaudio.load(SAMPLE_WAV_SPEECH_PATH)\n",
        "\n",
        "print_stats(waveform, sample_rate=sample_rate)\n",
        "plot_waveform(waveform, sample_rate)\n",
        "plot_specgram(waveform, sample_rate)\n",
        "play_audio(waveform, sample_rate)"
      ]
    },
    {
      "cell_type": "markdown",
      "metadata": {
        "id": "l7xnJkic224e"
      },
      "source": [
        "Loading from file-like object\n",
        "~~~~~~~~~~~~~~~~~~~~~~~~~~~~~\n",
        "\n",
        "``torchaudio``\\ ’s I/O functions now support file-like object. This\n",
        "allows to fetch audio data and decode at the same time from the location\n",
        "other than local file system. The following examples illustrates this.\n",
        "\n",
        "\n"
      ]
    },
    {
      "cell_type": "code",
      "execution_count": null,
      "metadata": {
        "id": "YDzRMuHj224e"
      },
      "outputs": [],
      "source": [
        "# Load audio data as HTTP request\n",
        "with requests.get(SAMPLE_WAV_SPEECH_URL, stream=True) as response:\n",
        "  waveform, sample_rate = torchaudio.load(response.raw)\n",
        "plot_specgram(waveform, sample_rate, title=\"HTTP datasource\")\n",
        "\n",
        "# Load audio from tar file\n",
        "with tarfile.open(SAMPLE_TAR_PATH, mode='r') as tarfile_:\n",
        "  fileobj = tarfile_.extractfile(SAMPLE_TAR_ITEM)\n",
        "  waveform, sample_rate = torchaudio.load(fileobj)\n",
        "plot_specgram(waveform, sample_rate, title=\"TAR file\")\n",
        "\n",
        "# Load audio from S3\n",
        "client = boto3.client('s3', config=Config(signature_version=UNSIGNED))\n",
        "response = client.get_object(Bucket=S3_BUCKET, Key=S3_KEY)\n",
        "waveform, sample_rate = torchaudio.load(response['Body'])\n",
        "plot_specgram(waveform, sample_rate, title=\"From S3\")"
      ]
    },
    {
      "cell_type": "markdown",
      "metadata": {
        "id": "Xozgs-Qn224f"
      },
      "source": [
        "Tips on slicing\n",
        "~~~~~~~~~~~~~~~\n",
        "\n",
        "Providing ``num_frames`` and ``frame_offset`` arguments will slice the\n",
        "resulting Tensor object while decoding.\n",
        "\n",
        "The same result can be achieved using the regular Tensor slicing,\n",
        "(i.e. ``waveform[:, frame_offset:frame_offset+num_frames]``) however,\n",
        "providing ``num_frames`` and ``frame_offset`` arguments is more\n",
        "efficient.\n",
        "\n",
        "This is because the function will stop data acquisition and decoding\n",
        "once it finishes decoding the requested frames. This is advantageous\n",
        "when the audio data are transfered via network as the data transfer will\n",
        "stop as soon as the necessary amount of data is fetched.\n",
        "\n",
        "The following example illustrates this;\n",
        "\n",
        "\n"
      ]
    },
    {
      "cell_type": "code",
      "execution_count": null,
      "metadata": {
        "id": "DGed-3x8224f"
      },
      "outputs": [],
      "source": [
        "# Illustration of two different decoding methods.\n",
        "# The first one will fetch all the data and decode them, while\n",
        "# the second one will stop fetching data once it completes decoding.\n",
        "# The resulting waveforms are identical.\n",
        "\n",
        "frame_offset, num_frames = 16000, 16000  # Fetch and decode the 1 - 2 seconds\n",
        "\n",
        "print(\"Fetching all the data...\")\n",
        "with requests.get(SAMPLE_WAV_SPEECH_URL, stream=True) as response:\n",
        "  waveform1, sample_rate1 = torchaudio.load(response.raw)\n",
        "  waveform1 = waveform1[:, frame_offset:frame_offset+num_frames]\n",
        "  print(f\" - Fetched {response.raw.tell()} bytes\")\n",
        "\n",
        "print(\"Fetching until the requested frames are available...\")\n",
        "with requests.get(SAMPLE_WAV_SPEECH_URL, stream=True) as response:\n",
        "  waveform2, sample_rate2 = torchaudio.load(\n",
        "      response.raw, frame_offset=frame_offset, num_frames=num_frames)\n",
        "  print(f\" - Fetched {response.raw.tell()} bytes\")\n",
        "\n",
        "print(\"Checking the resulting waveform ... \", end=\"\")\n",
        "assert (waveform1 == waveform2).all()\n",
        "print(\"matched!\")"
      ]
    },
    {
      "cell_type": "markdown",
      "metadata": {
        "id": "7ixPXXRG224f"
      },
      "source": [
        "Saving audio to file\n",
        "--------------------\n",
        "\n",
        "To save audio data in the formats intepretable by common applications,\n",
        "you can use ``torchaudio.save``.\n",
        "\n",
        "This function accepts path-like object and file-like object.\n",
        "\n",
        "When passing file-like object, you also need to provide ``format``\n",
        "argument so that the function knows which format it should be using. In\n",
        "case of path-like object, the function will detemine the format based on\n",
        "the extension. If you are saving to a file without extension, you need\n",
        "to provide ``format`` argument.\n",
        "\n",
        "When saving as WAV format, the default encoding for ``float32`` Tensor\n",
        "is 32-bit floating-point PCM. You can provide ``encoding`` and\n",
        "``bits_per_sample`` argument to change this. For example, to save data\n",
        "in 16 bit signed integer PCM, you can do the following.\n",
        "\n",
        "**Note** Saving data in encodings with lower bit depth reduces the\n",
        "resulting file size but loses precision.\n",
        "\n",
        "\n"
      ]
    },
    {
      "cell_type": "code",
      "execution_count": null,
      "metadata": {
        "id": "-Vd4krbC224f"
      },
      "outputs": [],
      "source": [
        "waveform, sample_rate = get_sample()\n",
        "print_stats(waveform, sample_rate=sample_rate)\n",
        "\n",
        "# Save without any encoding option.\n",
        "# The function will pick up the encoding which\n",
        "# the provided data fit\n",
        "path = \"save_example_default.wav\"\n",
        "torchaudio.save(path, waveform, sample_rate)\n",
        "inspect_file(path)\n",
        "\n",
        "# Save as 16-bit signed integer Linear PCM\n",
        "# The resulting file occupies half the storage but loses precision\n",
        "path = \"save_example_PCM_S16.wav\"\n",
        "torchaudio.save(\n",
        "    path, waveform, sample_rate,\n",
        "    encoding=\"PCM_S\", bits_per_sample=16)\n",
        "inspect_file(path)"
      ]
    },
    {
      "cell_type": "markdown",
      "metadata": {
        "id": "vQVJW8PR224f"
      },
      "source": [
        "``torchaudio.save`` can also handle other formats. To name a few;\n",
        "\n",
        "\n"
      ]
    },
    {
      "cell_type": "code",
      "execution_count": null,
      "metadata": {
        "id": "JITMT9rb224f"
      },
      "outputs": [],
      "source": [
        "waveform, sample_rate = get_sample(resample=8000)\n",
        "\n",
        "formats = [\n",
        "  \"mp3\",\n",
        "  \"flac\",\n",
        "  \"vorbis\",\n",
        "  \"sph\",\n",
        "  \"amb\",\n",
        "  \"amr-nb\",\n",
        "  \"gsm\",\n",
        "]\n",
        "\n",
        "for format in formats:\n",
        "  path = f\"save_example.{format}\"\n",
        "  torchaudio.save(path, waveform, sample_rate, format=format)\n",
        "  inspect_file(path)"
      ]
    },
    {
      "cell_type": "markdown",
      "metadata": {
        "id": "Qi8RWbNh224f"
      },
      "source": [
        "Saving to file-like object\n",
        "~~~~~~~~~~~~~~~~~~~~~~~~~~\n",
        "\n",
        "Similar to the other I/O functions, you can save audio into file-like\n",
        "object. When saving to file-like object, ``format`` argument is\n",
        "required.\n",
        "\n",
        "\n"
      ]
    },
    {
      "cell_type": "code",
      "execution_count": null,
      "metadata": {
        "id": "znFAonj9224f"
      },
      "outputs": [],
      "source": [
        "waveform, sample_rate = get_sample()\n",
        "\n",
        "# Saving to Bytes buffer\n",
        "buffer_ = io.BytesIO()\n",
        "torchaudio.save(buffer_, waveform, sample_rate, format=\"wav\")\n",
        "\n",
        "buffer_.seek(0)\n",
        "print(buffer_.read(16))"
      ]
    },
    {
      "cell_type": "markdown",
      "metadata": {
        "id": "0ao2DroM224f"
      },
      "source": [
        "Resampling\n",
        "==========\n",
        "\n",
        "To resample an audio waveform from one freqeuncy to another, you can use\n",
        "``transforms.Resample`` or ``functional.resample``.\n",
        "``transforms.Resample`` precomputes and caches the kernel used for\n",
        "resampling, while ``functional.resample`` computes it on the fly, so\n",
        "using ``transforms.Resample`` will result in a speedup if resampling\n",
        "multiple waveforms using the same parameters (see Benchmarking section).\n",
        "\n",
        "Both resampling methods use `bandlimited sinc\n",
        "interpolation <https://ccrma.stanford.edu/~jos/resample/>`__ to compute\n",
        "signal values at arbitrary time steps. The implementation involves\n",
        "convolution, so we can take advantage of GPU / multithreading for\n",
        "performance improvements. When using resampling in multiple\n",
        "subprocesses, such as data loading with multiple worker processes, your\n",
        "application might create more threads than your system can handle\n",
        "efficiently. Setting ``torch.set_num_threads(1)`` might help in this\n",
        "case.\n",
        "\n",
        "Because a finite number of samples can only represent a finite number of\n",
        "frequencies, resampling does not produce perfect results, and a variety\n",
        "of parameters can be used to control for its quality and computational\n",
        "speed. We demonstrate these properties through resampling a logarithmic\n",
        "sine sweep, which is a sine wave that increases exponentially in\n",
        "frequency over time.\n",
        "\n",
        "The spectrograms below show the frequency representation of the signal,\n",
        "where the x-axis labels correspond to the frequency of the original\n",
        "waveform (in log scale), the y-axis corresponds to the frequency of the\n",
        "plotted waveform, and the color intensity refers to amplitude.\n",
        "\n",
        "\n"
      ]
    },
    {
      "cell_type": "code",
      "execution_count": null,
      "metadata": {
        "id": "2sWinWxB224f"
      },
      "outputs": [],
      "source": [
        "sample_rate = 48000\n",
        "resample_rate = 32000\n",
        "\n",
        "waveform = get_sine_sweep(sample_rate)\n",
        "plot_sweep(waveform, sample_rate, title=\"Original Waveform\")\n",
        "play_audio(waveform, sample_rate)\n",
        "\n",
        "resampler = T.Resample(sample_rate, resample_rate, dtype=waveform.dtype)\n",
        "resampled_waveform = resampler(waveform)\n",
        "plot_sweep(resampled_waveform, resample_rate, title=\"Resampled Waveform\")\n",
        "play_audio(waveform, sample_rate)"
      ]
    },
    {
      "cell_type": "markdown",
      "metadata": {
        "id": "zDBkQsXS224f"
      },
      "source": [
        "Controling resampling quality with parameters\n",
        "---------------------------------------------\n",
        "\n",
        "Lowpass filter width\n",
        "~~~~~~~~~~~~~~~~~~~~\n",
        "\n",
        "Because the filter used for interpolation extends infinitely, the\n",
        "``lowpass_filter_width`` parameter is used to control for the width of\n",
        "the filter to use to window the interpolation. It is also referred to as\n",
        "the number of zero crossings, since the interpolation passes through\n",
        "zero at every time unit. Using a larger ``lowpass_filter_width``\n",
        "provides a sharper, more precise filter, but is more computationally\n",
        "expensive.\n",
        "\n",
        "\n"
      ]
    },
    {
      "cell_type": "code",
      "execution_count": null,
      "metadata": {
        "id": "gw7rQmP6224f"
      },
      "outputs": [],
      "source": [
        "sample_rate = 48000\n",
        "resample_rate = 32000\n",
        "\n",
        "resampled_waveform = F.resample(waveform, sample_rate, resample_rate, lowpass_filter_width=6)\n",
        "plot_sweep(resampled_waveform, resample_rate, title=\"lowpass_filter_width=6\")\n",
        "\n",
        "resampled_waveform = F.resample(waveform, sample_rate, resample_rate, lowpass_filter_width=128)\n",
        "plot_sweep(resampled_waveform, resample_rate, title=\"lowpass_filter_width=128\")"
      ]
    },
    {
      "cell_type": "markdown",
      "metadata": {
        "id": "grTIg9pN224f"
      },
      "source": [
        "Rolloff\n",
        "~~~~~~~\n",
        "\n",
        "The ``rolloff`` parameter is represented as a fraction of the Nyquist\n",
        "frequency, which is the maximal frequency representable by a given\n",
        "finite sample rate. ``rolloff`` determines the lowpass filter cutoff and\n",
        "controls the degree of aliasing, which takes place when frequencies\n",
        "higher than the Nyquist are mapped to lower frequencies. A lower rolloff\n",
        "will therefore reduce the amount of aliasing, but it will also reduce\n",
        "some of the higher frequencies.\n",
        "\n",
        "\n"
      ]
    },
    {
      "cell_type": "code",
      "execution_count": null,
      "metadata": {
        "id": "BCe5DUZj224f"
      },
      "outputs": [],
      "source": [
        "sample_rate = 48000\n",
        "resample_rate = 32000\n",
        "\n",
        "resampled_waveform = F.resample(waveform, sample_rate, resample_rate, rolloff=0.99)\n",
        "plot_sweep(resampled_waveform, resample_rate, title=\"rolloff=0.99\")\n",
        "\n",
        "resampled_waveform = F.resample(waveform, sample_rate, resample_rate, rolloff=0.8)\n",
        "plot_sweep(resampled_waveform, resample_rate, title=\"rolloff=0.8\")"
      ]
    },
    {
      "cell_type": "markdown",
      "metadata": {
        "id": "QNQtcSbF224g"
      },
      "source": [
        "Window function\n",
        "~~~~~~~~~~~~~~~\n",
        "\n",
        "By default, torchaudio’s resample uses the Hann window filter, which is\n",
        "a weighted cosine function. It additionally supports the Kaiser window,\n",
        "which is a near optimal window function that contains an additional\n",
        "``beta`` parameter that allows for the design of the smoothness of the\n",
        "filter and width of impulse. This can be controlled using the\n",
        "``resampling_method`` parameter.\n",
        "\n",
        "\n"
      ]
    },
    {
      "cell_type": "code",
      "execution_count": null,
      "metadata": {
        "id": "VoI1n3Dd224g"
      },
      "outputs": [],
      "source": [
        "sample_rate = 48000\n",
        "resample_rate = 32000\n",
        "\n",
        "resampled_waveform = F.resample(waveform, sample_rate, resample_rate, resampling_method=\"sinc_interpolation\")\n",
        "plot_sweep(resampled_waveform, resample_rate, title=\"Hann Window Default\")\n",
        "\n",
        "resampled_waveform = F.resample(waveform, sample_rate, resample_rate, resampling_method=\"kaiser_window\")\n",
        "plot_sweep(resampled_waveform, resample_rate, title=\"Kaiser Window Default\")"
      ]
    },
    {
      "cell_type": "markdown",
      "metadata": {
        "id": "pe1gedxk224g"
      },
      "source": [
        "Comparison against librosa\n",
        "--------------------------\n",
        "\n",
        "torchaudio’s resample function can be used to produce results similar to\n",
        "that of librosa (resampy)’s kaiser window resampling, with some noise\n",
        "\n",
        "\n"
      ]
    },
    {
      "cell_type": "code",
      "execution_count": null,
      "metadata": {
        "id": "ayc-EFat224g"
      },
      "outputs": [],
      "source": [
        "sample_rate = 48000\n",
        "resample_rate = 32000\n",
        "\n",
        "### kaiser_best\n",
        "resampled_waveform = F.resample(\n",
        "    waveform,\n",
        "    sample_rate,\n",
        "    resample_rate,\n",
        "    lowpass_filter_width=64,\n",
        "    rolloff=0.9475937167399596,\n",
        "    resampling_method=\"kaiser_window\",\n",
        "    beta=14.769656459379492\n",
        ")\n",
        "plot_sweep(resampled_waveform, resample_rate, title=\"Kaiser Window Best (torchaudio)\")\n",
        "\n",
        "librosa_resampled_waveform = torch.from_numpy(\n",
        "    librosa.resample(waveform.squeeze().numpy(), sample_rate, resample_rate, res_type='kaiser_best')).unsqueeze(0)\n",
        "plot_sweep(librosa_resampled_waveform, resample_rate, title=\"Kaiser Window Best (librosa)\")\n",
        "\n",
        "mse = torch.square(resampled_waveform - librosa_resampled_waveform).mean().item()\n",
        "print(\"torchaudio and librosa kaiser best MSE:\", mse)\n",
        "\n",
        "### kaiser_fast\n",
        "resampled_waveform = F.resample(\n",
        "    waveform,\n",
        "    sample_rate,\n",
        "    resample_rate,\n",
        "    lowpass_filter_width=16,\n",
        "    rolloff=0.85,\n",
        "    resampling_method=\"kaiser_window\",\n",
        "    beta=8.555504641634386\n",
        ")\n",
        "plot_specgram(resampled_waveform, resample_rate, title=\"Kaiser Window Fast (torchaudio)\")\n",
        "\n",
        "librosa_resampled_waveform = torch.from_numpy(\n",
        "    librosa.resample(waveform.squeeze().numpy(), sample_rate, resample_rate, res_type='kaiser_fast')).unsqueeze(0)\n",
        "plot_sweep(librosa_resampled_waveform, resample_rate, title=\"Kaiser Window Fast (librosa)\")\n",
        "\n",
        "mse = torch.square(resampled_waveform - librosa_resampled_waveform).mean().item()\n",
        "print(\"torchaudio and librosa kaiser fast MSE:\", mse)"
      ]
    },
    {
      "cell_type": "markdown",
      "metadata": {
        "id": "12qsTbMb224g"
      },
      "source": [
        "Performance Benchmarking\n",
        "------------------------\n",
        "\n",
        "Below are benchmarks for downsampling and upsampling waveforms between\n",
        "two pairs of sampling rates. We demonstrate the performance implications\n",
        "that the ``lowpass_filter_wdith``, window type, and sample rates can\n",
        "have. Additionally, we provide a comparison against ``librosa``\\ ’s\n",
        "``kaiser_best`` and ``kaiser_fast`` using their corresponding parameters\n",
        "in ``torchaudio``.\n",
        "\n",
        "To elaborate on the results:\n",
        "\n",
        "- a larger ``lowpass_filter_width`` results in a larger resampling kernel,\n",
        "  and therefore increases computation time for both the kernel computation\n",
        "  and convolution\n",
        "- using ``kaiser_window`` results in longer computation times than the default\n",
        "  ``sinc_interpolation`` because it is more complex to compute the intermediate\n",
        "  window values - a large GCD between the sample and resample rate will result\n",
        "  in a simplification that allows for a smaller kernel and faster kernel computation.\n",
        "\n",
        "\n"
      ]
    },
    {
      "cell_type": "code",
      "execution_count": null,
      "metadata": {
        "id": "Ew4_wlEV224g"
      },
      "outputs": [],
      "source": [
        "configs = {\n",
        "    \"downsample (48 -> 44.1 kHz)\": [48000, 44100],\n",
        "    \"downsample (16 -> 8 kHz)\": [16000, 8000],\n",
        "    \"upsample (44.1 -> 48 kHz)\": [44100, 48000],\n",
        "    \"upsample (8 -> 16 kHz)\": [8000, 16000],\n",
        "}\n",
        "\n",
        "for label in configs:\n",
        "  times, rows = [], []\n",
        "  sample_rate = configs[label][0]\n",
        "  resample_rate = configs[label][1]\n",
        "  waveform = get_sine_sweep(sample_rate)\n",
        "\n",
        "  # sinc 64 zero-crossings\n",
        "  f_time = benchmark_resample(\"functional\", waveform, sample_rate, resample_rate, lowpass_filter_width=64)\n",
        "  t_time = benchmark_resample(\"transforms\", waveform, sample_rate, resample_rate, lowpass_filter_width=64)\n",
        "  times.append([None, 1000 * f_time, 1000 * t_time])\n",
        "  rows.append(f\"sinc (width 64)\")\n",
        "\n",
        "  # sinc 6 zero-crossings\n",
        "  f_time = benchmark_resample(\"functional\", waveform, sample_rate, resample_rate, lowpass_filter_width=16)\n",
        "  t_time = benchmark_resample(\"transforms\", waveform, sample_rate, resample_rate, lowpass_filter_width=16)\n",
        "  times.append([None, 1000 * f_time, 1000 * t_time])\n",
        "  rows.append(f\"sinc (width 16)\")\n",
        "\n",
        "  # kaiser best\n",
        "  lib_time = benchmark_resample(\"librosa\", waveform, sample_rate, resample_rate, librosa_type=\"kaiser_best\")\n",
        "  f_time = benchmark_resample(\n",
        "      \"functional\",\n",
        "      waveform,\n",
        "      sample_rate,\n",
        "      resample_rate,\n",
        "      lowpass_filter_width=64,\n",
        "      rolloff=0.9475937167399596,\n",
        "      resampling_method=\"kaiser_window\",\n",
        "      beta=14.769656459379492)\n",
        "  t_time = benchmark_resample(\n",
        "      \"transforms\",\n",
        "      waveform,\n",
        "      sample_rate,\n",
        "      resample_rate,\n",
        "      lowpass_filter_width=64,\n",
        "      rolloff=0.9475937167399596,\n",
        "      resampling_method=\"kaiser_window\",\n",
        "      beta=14.769656459379492)\n",
        "  times.append([1000 * lib_time, 1000 * f_time, 1000 * t_time])\n",
        "  rows.append(f\"kaiser_best\")\n",
        "\n",
        "  # kaiser fast\n",
        "  lib_time = benchmark_resample(\"librosa\", waveform, sample_rate, resample_rate, librosa_type=\"kaiser_fast\")\n",
        "  f_time = benchmark_resample(\n",
        "      \"functional\",\n",
        "      waveform,\n",
        "      sample_rate,\n",
        "      resample_rate,\n",
        "      lowpass_filter_width=16,\n",
        "      rolloff=0.85,\n",
        "      resampling_method=\"kaiser_window\",\n",
        "      beta=8.555504641634386)\n",
        "  t_time = benchmark_resample(\n",
        "      \"transforms\",\n",
        "      waveform,\n",
        "      sample_rate,\n",
        "      resample_rate,\n",
        "      lowpass_filter_width=16,\n",
        "      rolloff=0.85,\n",
        "      resampling_method=\"kaiser_window\",\n",
        "      beta=8.555504641634386)\n",
        "  times.append([1000 * lib_time, 1000 * f_time, 1000 * t_time])\n",
        "  rows.append(f\"kaiser_fast\")\n",
        "\n",
        "  df = pd.DataFrame(times,\n",
        "                    columns=[\"librosa\", \"functional\", \"transforms\"],\n",
        "                    index=rows)\n",
        "  df.columns = pd.MultiIndex.from_product([[f\"{label} time (ms)\"],df.columns])\n",
        "  display(df.round(2))"
      ]
    },
    {
      "cell_type": "markdown",
      "metadata": {
        "id": "t99fbL0F224j"
      },
      "source": [
        "Data Augmentation\n",
        "=================\n",
        "\n",
        "``torchaudio`` provides a variety of ways to augment audio data.\n",
        "\n",
        "\n"
      ]
    },
    {
      "cell_type": "markdown",
      "metadata": {
        "id": "_2zzL10o224j"
      },
      "source": [
        "Applying effects and filtering\n",
        "------------------------------\n",
        "\n",
        "``torchaudio.sox_effects`` module provides ways to apply filiters like\n",
        "``sox`` command on Tensor objects and file-object audio sources\n",
        "directly.\n",
        "\n",
        "There are two functions for this;\n",
        "\n",
        "-  ``torchaudio.sox_effects.apply_effects_tensor`` for applying effects\n",
        "   on Tensor\n",
        "-  ``torchaudio.sox_effects.apply_effects_file`` for applying effects on\n",
        "   other audio source\n",
        "\n",
        "Both function takes effects in the form of ``List[List[str]]``. This\n",
        "mostly corresponds to how ``sox`` command works, but one caveat is that\n",
        "``sox`` command adds some effects automatically, but torchaudio’s\n",
        "implementation does not do that.\n",
        "\n",
        "For the list of available effects, please refer to `the sox\n",
        "documentation <http://sox.sourceforge.net/sox.html>`__.\n",
        "\n",
        "**Tip** If you need to load and resample your audio data on-the-fly,\n",
        "then you can use ``torchaudio.sox_effects.apply_effects_file`` with\n",
        "``\"rate\"`` effect.\n",
        "\n",
        "**Note** ``apply_effects_file`` accepts file-like object or path-like\n",
        "object. Similar to ``torchaudio.load``, when the audio format cannot be\n",
        "detected from either file extension or header, you can provide\n",
        "``format`` argument to tell what format the audio source is.\n",
        "\n",
        "**Note** This process is not differentiable.\n",
        "\n",
        "\n"
      ]
    },
    {
      "cell_type": "code",
      "execution_count": null,
      "metadata": {
        "id": "DAkjfvc5224j"
      },
      "outputs": [],
      "source": [
        "# Load the data\n",
        "waveform1, sample_rate1 = get_sample(resample=16000)\n",
        "\n",
        "# Define effects\n",
        "effects = [\n",
        "  [\"lowpass\", \"-1\", \"300\"], # apply single-pole lowpass filter\n",
        "  [\"speed\", \"0.8\"],  # reduce the speed\n",
        "                     # This only changes sample rate, so it is necessary to\n",
        "                     # add `rate` effect with original sample rate after this.\n",
        "  [\"rate\", f\"{sample_rate1}\"],\n",
        "  [\"reverb\", \"-w\"],  # Reverbration gives some dramatic feeling\n",
        "]\n",
        "\n",
        "# Apply effects\n",
        "waveform2, sample_rate2 = torchaudio.sox_effects.apply_effects_tensor(\n",
        "    waveform1, sample_rate1, effects)\n",
        "\n",
        "plot_waveform(waveform1, sample_rate1, title=\"Original\", xlim=(-.1, 3.2))\n",
        "plot_waveform(waveform2, sample_rate2, title=\"Effects Applied\", xlim=(-.1, 3.2))\n",
        "print_stats(waveform1, sample_rate=sample_rate1, src=\"Original\")\n",
        "print_stats(waveform2, sample_rate=sample_rate2, src=\"Effects Applied\")"
      ]
    },
    {
      "cell_type": "markdown",
      "metadata": {
        "id": "_IhkhRT2224j"
      },
      "source": [
        "Note that the number of frames and number of channels are different from\n",
        "the original after the effects. Let’s listen to the audio. Doesn’t it\n",
        "sound more dramatic?\n",
        "\n",
        "\n"
      ]
    },
    {
      "cell_type": "code",
      "execution_count": null,
      "metadata": {
        "id": "MDsmAFaS224j"
      },
      "outputs": [],
      "source": [
        "plot_specgram(waveform1, sample_rate1, title=\"Original\", xlim=(0, 3.04))\n",
        "play_audio(waveform1, sample_rate1)\n",
        "plot_specgram(waveform2, sample_rate2, title=\"Effects Applied\", xlim=(0, 3.04))\n",
        "play_audio(waveform2, sample_rate2)"
      ]
    },
    {
      "cell_type": "markdown",
      "metadata": {
        "id": "qRzAhnzG224j"
      },
      "source": [
        "Simulating room reverbration\n",
        "----------------------------\n",
        "\n",
        "`Convolution\n",
        "reverb <https://en.wikipedia.org/wiki/Convolution_reverb>`__ is a\n",
        "technique used to make a clean audio data sound like in a different\n",
        "environment.\n",
        "\n",
        "Using Room Impulse Response (RIR), we can make a clean speech sound like\n",
        "uttered in a conference room.\n",
        "\n",
        "For this process, we need RIR data. The following data are from VOiCES\n",
        "dataset, but you can record one by your self. Just turn on microphone\n",
        "and clap you hands.\n",
        "\n",
        "\n"
      ]
    },
    {
      "cell_type": "code",
      "execution_count": null,
      "metadata": {
        "id": "suE2Dt5R224j"
      },
      "outputs": [],
      "source": [
        "sample_rate = 8000\n",
        "\n",
        "rir_raw, _ = get_rir_sample(resample=sample_rate)\n",
        "\n",
        "plot_waveform(rir_raw, sample_rate, title=\"Room Impulse Response (raw)\", ylim=None)\n",
        "plot_specgram(rir_raw, sample_rate, title=\"Room Impulse Response (raw)\")\n",
        "play_audio(rir_raw, sample_rate)"
      ]
    },
    {
      "cell_type": "markdown",
      "metadata": {
        "id": "nahzYHce224j"
      },
      "source": [
        "First, we need to clean up the RIR. We extract the main impulse,\n",
        "normalize the signal power, then flip the time axis.\n",
        "\n",
        "\n"
      ]
    },
    {
      "cell_type": "code",
      "execution_count": null,
      "metadata": {
        "id": "_7GA1f1u224j"
      },
      "outputs": [],
      "source": [
        "rir = rir_raw[:, int(sample_rate*1.01):int(sample_rate*1.3)]\n",
        "rir = rir / torch.norm(rir, p=2)\n",
        "rir = torch.flip(rir, [1])\n",
        "\n",
        "print_stats(rir)\n",
        "plot_waveform(rir, sample_rate, title=\"Room Impulse Response\", ylim=None)"
      ]
    },
    {
      "cell_type": "markdown",
      "metadata": {
        "id": "gITI13hc224j"
      },
      "source": [
        "Then we convolve the speech signal with the RIR filter.\n",
        "\n",
        "\n"
      ]
    },
    {
      "cell_type": "code",
      "execution_count": null,
      "metadata": {
        "id": "40qzQQE_224j"
      },
      "outputs": [],
      "source": [
        "speech, _ = get_speech_sample(resample=sample_rate)\n",
        "\n",
        "speech_ = torch.nn.functional.pad(speech, (rir.shape[1]-1, 0))\n",
        "augmented = torch.nn.functional.conv1d(speech_[None, ...], rir[None, ...])[0]\n",
        "\n",
        "plot_waveform(speech, sample_rate, title=\"Original\", ylim=None)\n",
        "plot_waveform(augmented, sample_rate, title=\"RIR Applied\", ylim=None)\n",
        "\n",
        "plot_specgram(speech, sample_rate, title=\"Original\")\n",
        "play_audio(speech, sample_rate)\n",
        "\n",
        "plot_specgram(augmented, sample_rate, title=\"RIR Applied\")\n",
        "play_audio(augmented, sample_rate)"
      ]
    },
    {
      "cell_type": "markdown",
      "metadata": {
        "id": "__UAcAYG224j"
      },
      "source": [
        "Adding background noise\n",
        "-----------------------\n",
        "\n",
        "To add background noise to audio data, you can simply add audio Tensor\n",
        "and noise Tensor. A commonly way to adjust the intensity of noise is to\n",
        "change Signal-to-Noise Ratio (SNR).\n",
        "[`wikipedia <https://en.wikipedia.org/wiki/Signal-to-noise_ratio>`__]\n",
        "\n",
        "\\begin{align}\\mathrm{SNR} = \\frac{P_\\mathrm{signal}}{P_\\mathrm{noise}}\\end{align}\n",
        "\n",
        "\\begin{align}{\\mathrm  {SNR_{{dB}}}}=10\\log _{{10}}\\left({\\mathrm  {SNR}}\\right)\\end{align}\n",
        "\n",
        "\n"
      ]
    },
    {
      "cell_type": "code",
      "execution_count": null,
      "metadata": {
        "id": "KDsabgLR224j"
      },
      "outputs": [],
      "source": [
        "sample_rate = 8000\n",
        "speech, _ = get_speech_sample(resample=sample_rate)\n",
        "noise, _ = get_noise_sample(resample=sample_rate)\n",
        "noise = noise[:, :speech.shape[1]]\n",
        "\n",
        "plot_waveform(noise, sample_rate, title=\"Background noise\")\n",
        "plot_specgram(noise, sample_rate, title=\"Background noise\")\n",
        "play_audio(noise, sample_rate)\n",
        "\n",
        "speech_power = speech.norm(p=2)\n",
        "noise_power = noise.norm(p=2)\n",
        "\n",
        "for snr_db in [20, 10, 3]:\n",
        "  snr = math.exp(snr_db / 10)\n",
        "  scale = snr * noise_power / speech_power\n",
        "  noisy_speech = (scale * speech + noise) / 2\n",
        "\n",
        "  plot_waveform(noisy_speech, sample_rate, title=f\"SNR: {snr_db} [dB]\")\n",
        "  plot_specgram(noisy_speech, sample_rate, title=f\"SNR: {snr_db} [dB]\")\n",
        "  play_audio(noisy_speech, sample_rate)"
      ]
    },
    {
      "cell_type": "markdown",
      "metadata": {
        "id": "WPk3a09H224j"
      },
      "source": [
        "Applying codec to Tensor object\n",
        "-------------------------------\n",
        "\n",
        "``torchaudio.functional.apply_codec`` can apply codecs to Tensor object.\n",
        "\n",
        "**Note** This process is not differentiable.\n",
        "\n",
        "\n"
      ]
    },
    {
      "cell_type": "code",
      "execution_count": null,
      "metadata": {
        "id": "7VMDOmtZ224j"
      },
      "outputs": [],
      "source": [
        "waveform, sample_rate = get_speech_sample(resample=8000)\n",
        "\n",
        "plot_specgram(waveform, sample_rate, title=\"Original\")\n",
        "play_audio(waveform, sample_rate)\n",
        "\n",
        "configs = [\n",
        "    ({\"format\": \"wav\", \"encoding\": 'ULAW', \"bits_per_sample\": 8}, \"8 bit mu-law\"),\n",
        "    ({\"format\": \"gsm\"}, \"GSM-FR\"),\n",
        "    ({\"format\": \"mp3\", \"compression\": -9}, \"MP3\"),\n",
        "    ({\"format\": \"vorbis\", \"compression\": -1}, \"Vorbis\"),\n",
        "]\n",
        "for param, title in configs:\n",
        "  augmented = F.apply_codec(waveform, sample_rate, **param)\n",
        "  plot_specgram(augmented, sample_rate, title=title)\n",
        "  play_audio(augmented, sample_rate)"
      ]
    },
    {
      "cell_type": "markdown",
      "metadata": {
        "id": "KMtJ6M22224j"
      },
      "source": [
        "Simulating a phone recoding\n",
        "---------------------------\n",
        "\n",
        "Combining the previous techniques, we can simulate audio that sounds\n",
        "like a person talking over a phone in a echoey room with people talking\n",
        "in the background.\n",
        "\n",
        "\n"
      ]
    },
    {
      "cell_type": "code",
      "execution_count": null,
      "metadata": {
        "id": "g_8rhHMG224j"
      },
      "outputs": [],
      "source": [
        "sample_rate = 16000\n",
        "speech, _ = get_speech_sample(resample=sample_rate)\n",
        "\n",
        "plot_specgram(speech, sample_rate, title=\"Original\")\n",
        "play_audio(speech, sample_rate)\n",
        "\n",
        "# Apply RIR\n",
        "rir, _ = get_rir_sample(resample=sample_rate, processed=True)\n",
        "speech_ = torch.nn.functional.pad(speech, (rir.shape[1]-1, 0))\n",
        "speech = torch.nn.functional.conv1d(speech_[None, ...], rir[None, ...])[0]\n",
        "\n",
        "plot_specgram(speech, sample_rate, title=\"RIR Applied\")\n",
        "play_audio(speech, sample_rate)\n",
        "\n",
        "# Add background noise\n",
        "# Because the noise is recorded in the actual environment, we consider that\n",
        "# the noise contains the acoustic feature of the environment. Therefore, we add\n",
        "# the noise after RIR application.\n",
        "noise, _ = get_noise_sample(resample=sample_rate)\n",
        "noise = noise[:, :speech.shape[1]]\n",
        "\n",
        "snr_db = 8\n",
        "scale = math.exp(snr_db / 10) * noise.norm(p=2) / speech.norm(p=2)\n",
        "speech = (scale * speech + noise) / 2\n",
        "\n",
        "plot_specgram(speech, sample_rate, title=\"BG noise added\")\n",
        "play_audio(speech, sample_rate)\n",
        "\n",
        "# Apply filtering and change sample rate\n",
        "speech, sample_rate = torchaudio.sox_effects.apply_effects_tensor(\n",
        "  speech,\n",
        "  sample_rate,\n",
        "  effects=[\n",
        "      [\"lowpass\", \"4000\"],\n",
        "      [\"compand\", \"0.02,0.05\", \"-60,-60,-30,-10,-20,-8,-5,-8,-2,-8\", \"-8\", \"-7\", \"0.05\"],\n",
        "      [\"rate\", \"8000\"],\n",
        "  ],\n",
        ")\n",
        "\n",
        "plot_specgram(speech, sample_rate, title=\"Filtered\")\n",
        "play_audio(speech, sample_rate)\n",
        "\n",
        "# Apply telephony codec\n",
        "speech = F.apply_codec(speech, sample_rate, format=\"gsm\")\n",
        "\n",
        "plot_specgram(speech, sample_rate, title=\"GSM Codec Applied\")\n",
        "play_audio(speech, sample_rate)"
      ]
    },
    {
      "cell_type": "markdown",
      "metadata": {
        "id": "PxYwvilq224k"
      },
      "source": [
        "Feature Extractions\n",
        "===================\n",
        "\n",
        "``torchaudio`` implements feature extractions commonly used in audio\n",
        "domain. They are available in ``torchaudio.functional`` and\n",
        "``torchaudio.transforms``.\n",
        "\n",
        "``functional`` module implements features as a stand alone functions.\n",
        "They are stateless.\n",
        "\n",
        "``transforms`` module implements features in object-oriented manner,\n",
        "using implementations from ``functional`` and ``torch.nn.Module``.\n",
        "\n",
        "Because all the transforms are subclass of ``torch.nn.Module``, they can\n",
        "be serialized using TorchScript.\n",
        "\n",
        "For the complete list of available features, please refer to the\n",
        "documentation. In this tutorial, we will look into conversion between\n",
        "time domain and frequency domain (``Spectrogram``, ``GriffinLim``,\n",
        "``MelSpectrogram``) and augmentation technique called SpecAugment.\n",
        "\n",
        "\n"
      ]
    },
    {
      "cell_type": "markdown",
      "metadata": {
        "id": "BoVWAbuY224k"
      },
      "source": [
        "Spectrogram\n",
        "-----------\n",
        "\n",
        "To get the frequency representation of audio signal, you can use\n",
        "``Spectrogram`` transform.\n",
        "\n",
        "\n"
      ]
    },
    {
      "cell_type": "code",
      "execution_count": null,
      "metadata": {
        "id": "RV-zn8xZ224k"
      },
      "outputs": [],
      "source": [
        "waveform, sample_rate = get_speech_sample()\n",
        "\n",
        "n_fft = 1024\n",
        "win_length = None\n",
        "hop_length = 512\n",
        "\n",
        "# define transformation\n",
        "spectrogram = T.Spectrogram(\n",
        "    n_fft=n_fft,\n",
        "    win_length=win_length,\n",
        "    hop_length=hop_length,\n",
        "    center=True,\n",
        "    pad_mode=\"reflect\",\n",
        "    power=2.0,\n",
        ")\n",
        "# Perform transformation\n",
        "spec = spectrogram(waveform)\n",
        "\n",
        "print_stats(spec)\n",
        "plot_spectrogram(spec[0], title='torchaudio')"
      ]
    },
    {
      "cell_type": "markdown",
      "metadata": {
        "id": "sjSJmSce224k"
      },
      "source": [
        "GriffinLim\n",
        "----------\n",
        "\n",
        "To recover a waveform from spectrogram, you can use ``GriffinLim``.\n",
        "\n",
        "\n"
      ]
    },
    {
      "cell_type": "code",
      "execution_count": null,
      "metadata": {
        "id": "LQSR3JU6224k"
      },
      "outputs": [],
      "source": [
        "torch.random.manual_seed(0)\n",
        "waveform, sample_rate = get_speech_sample()\n",
        "plot_waveform(waveform, sample_rate, title=\"Original\")\n",
        "play_audio(waveform, sample_rate)\n",
        "\n",
        "n_fft = 1024\n",
        "win_length = None\n",
        "hop_length = 512\n",
        "\n",
        "spec = T.Spectrogram(\n",
        "    n_fft=n_fft,\n",
        "    win_length=win_length,\n",
        "    hop_length=hop_length,\n",
        ")(waveform)\n",
        "\n",
        "griffin_lim = T.GriffinLim(\n",
        "    n_fft=n_fft,\n",
        "    win_length=win_length,\n",
        "    hop_length=hop_length,\n",
        ")\n",
        "waveform = griffin_lim(spec)\n",
        "\n",
        "plot_waveform(waveform, sample_rate, title=\"Reconstructed\")\n",
        "play_audio(waveform, sample_rate)"
      ]
    },
    {
      "cell_type": "markdown",
      "metadata": {
        "id": "tZRr5iHx224k"
      },
      "source": [
        "Mel Filter Bank\n",
        "---------------\n",
        "\n",
        "``torchaudio.functional.create_fb_matrix`` can generate the filter bank\n",
        "to convert frequency bins to Mel-scale bins.\n",
        "\n",
        "Since this function does not require input audio/features, there is no\n",
        "equivalent transform in ``torchaudio.transforms``.\n",
        "\n",
        "\n"
      ]
    },
    {
      "cell_type": "code",
      "execution_count": null,
      "metadata": {
        "id": "N2_b6EXB224k"
      },
      "outputs": [],
      "source": [
        "n_fft = 256\n",
        "n_mels = 64\n",
        "sample_rate = 6000\n",
        "\n",
        "mel_filters = F.create_fb_matrix(\n",
        "    int(n_fft // 2 + 1),\n",
        "    n_mels=n_mels,\n",
        "    f_min=0.,\n",
        "    f_max=sample_rate/2.,\n",
        "    sample_rate=sample_rate,\n",
        "    norm='slaney'\n",
        ")\n",
        "plot_mel_fbank(mel_filters, \"Mel Filter Bank - torchaudio\")"
      ]
    },
    {
      "cell_type": "markdown",
      "metadata": {
        "id": "wQOr34_H224k"
      },
      "source": [
        "Comparison against librosa\n",
        "~~~~~~~~~~~~~~~~~~~~~~~~~~\n",
        "\n",
        "As a comparison, here is the equivalent way to get the mel filter bank\n",
        "with ``librosa``.\n",
        "\n",
        "\n"
      ]
    },
    {
      "cell_type": "code",
      "execution_count": null,
      "metadata": {
        "id": "yNmwIlei224k"
      },
      "outputs": [],
      "source": [
        "mel_filters_librosa = librosa.filters.mel(\n",
        "    sample_rate,\n",
        "    n_fft,\n",
        "    n_mels=n_mels,\n",
        "    fmin=0.,\n",
        "    fmax=sample_rate/2.,\n",
        "    norm='slaney',\n",
        "    htk=True,\n",
        ").T\n",
        "\n",
        "plot_mel_fbank(mel_filters_librosa, \"Mel Filter Bank - librosa\")\n",
        "\n",
        "mse = torch.square(mel_filters - mel_filters_librosa).mean().item()\n",
        "print('Mean Square Difference: ', mse)"
      ]
    },
    {
      "cell_type": "markdown",
      "metadata": {
        "id": "QlS5F_HW224k"
      },
      "source": [
        "MelSpectrogram\n",
        "--------------\n",
        "\n",
        "Mel-scale spectrogram is a combination of Spectrogram and mel scale\n",
        "conversion. In ``torchaudio``, there is a transform ``MelSpectrogram``\n",
        "which is composed of ``Spectrogram`` and ``MelScale``.\n",
        "\n",
        "\n"
      ]
    },
    {
      "cell_type": "code",
      "execution_count": null,
      "metadata": {
        "id": "IAwbJlqM224k"
      },
      "outputs": [],
      "source": [
        "waveform, sample_rate = get_speech_sample()\n",
        "\n",
        "n_fft = 1024\n",
        "win_length = None\n",
        "hop_length = 512\n",
        "n_mels = 128\n",
        "\n",
        "mel_spectrogram = T.MelSpectrogram(\n",
        "    sample_rate=sample_rate,\n",
        "    n_fft=n_fft,\n",
        "    win_length=win_length,\n",
        "    hop_length=hop_length,\n",
        "    center=True,\n",
        "    pad_mode=\"reflect\",\n",
        "    power=2.0,\n",
        "    norm='slaney',\n",
        "    onesided=True,\n",
        "    n_mels=n_mels,\n",
        "    mel_scale=\"htk\",\n",
        ")\n",
        "\n",
        "melspec = mel_spectrogram(waveform)\n",
        "plot_spectrogram(\n",
        "    melspec[0], title=\"MelSpectrogram - torchaudio\", ylabel='mel freq')"
      ]
    },
    {
      "cell_type": "markdown",
      "metadata": {
        "id": "vN1MtzU7224k"
      },
      "source": [
        "Comparison against librosa\n",
        "~~~~~~~~~~~~~~~~~~~~~~~~~~\n",
        "\n",
        "As a comparison, here is the equivalent way to get Mel-scale spectrogram\n",
        "with ``librosa``.\n",
        "\n",
        "\n"
      ]
    },
    {
      "cell_type": "code",
      "execution_count": null,
      "metadata": {
        "id": "VWyJOcwR224k"
      },
      "outputs": [],
      "source": [
        "melspec_librosa = librosa.feature.melspectrogram(\n",
        "    waveform.numpy()[0],\n",
        "    sr=sample_rate,\n",
        "    n_fft=n_fft,\n",
        "    hop_length=hop_length,\n",
        "    win_length=win_length,\n",
        "    center=True,\n",
        "    pad_mode=\"reflect\",\n",
        "    power=2.0,\n",
        "    n_mels=n_mels,\n",
        "    norm='slaney',\n",
        "    htk=True,\n",
        ")\n",
        "plot_spectrogram(\n",
        "    melspec_librosa, title=\"MelSpectrogram - librosa\", ylabel='mel freq')\n",
        "\n",
        "mse = torch.square(melspec - melspec_librosa).mean().item()\n",
        "print('Mean Square Difference: ', mse)"
      ]
    },
    {
      "cell_type": "markdown",
      "metadata": {
        "id": "Ush1py-M224k"
      },
      "source": [
        "MFCC\n",
        "----\n",
        "\n",
        "\n"
      ]
    },
    {
      "cell_type": "code",
      "execution_count": null,
      "metadata": {
        "id": "tRWwH-5v224k"
      },
      "outputs": [],
      "source": [
        "waveform, sample_rate = get_speech_sample()\n",
        "\n",
        "n_fft = 2048\n",
        "win_length = None\n",
        "hop_length = 512\n",
        "n_mels = 256\n",
        "n_mfcc = 256\n",
        "\n",
        "mfcc_transform = T.MFCC(\n",
        "    sample_rate=sample_rate,\n",
        "    n_mfcc=n_mfcc,\n",
        "    melkwargs={\n",
        "      'n_fft': n_fft,\n",
        "      'n_mels': n_mels,\n",
        "      'hop_length': hop_length,\n",
        "      'mel_scale': 'htk',\n",
        "    }\n",
        ")\n",
        "\n",
        "mfcc = mfcc_transform(waveform)\n",
        "\n",
        "plot_spectrogram(mfcc[0])"
      ]
    },
    {
      "cell_type": "markdown",
      "metadata": {
        "id": "zUjdeB6E224k"
      },
      "source": [
        "Comparing against librosa\n",
        "~~~~~~~~~~~~~~~~~~~~~~~~~\n",
        "\n",
        "\n"
      ]
    },
    {
      "cell_type": "code",
      "execution_count": null,
      "metadata": {
        "id": "IdnmTZ4J224k"
      },
      "outputs": [],
      "source": [
        "melspec = librosa.feature.melspectrogram(\n",
        "  y=waveform.numpy()[0], sr=sample_rate, n_fft=n_fft,\n",
        "  win_length=win_length, hop_length=hop_length,\n",
        "  n_mels=n_mels, htk=True, norm=None)\n",
        "\n",
        "mfcc_librosa = librosa.feature.mfcc(\n",
        "  S=librosa.core.spectrum.power_to_db(melspec),\n",
        "  n_mfcc=n_mfcc, dct_type=2, norm='ortho')\n",
        "\n",
        "plot_spectrogram(mfcc_librosa)\n",
        "\n",
        "mse = torch.square(mfcc - mfcc_librosa).mean().item()\n",
        "print('Mean Square Difference: ', mse)"
      ]
    },
    {
      "cell_type": "markdown",
      "metadata": {
        "id": "4PIGLmW4224l"
      },
      "source": [
        "Pitch\n",
        "-----\n",
        "\n",
        "\n"
      ]
    },
    {
      "cell_type": "code",
      "execution_count": null,
      "metadata": {
        "id": "OwRlnE-i224l"
      },
      "outputs": [],
      "source": [
        "waveform, sample_rate = get_speech_sample()\n",
        "\n",
        "pitch = F.detect_pitch_frequency(waveform, sample_rate)\n",
        "plot_pitch(waveform, sample_rate, pitch)\n",
        "play_audio(waveform, sample_rate)"
      ]
    },
    {
      "cell_type": "markdown",
      "metadata": {
        "id": "7VNehz7F224l"
      },
      "source": [
        "Kaldi Pitch (beta)\n",
        "------------------\n",
        "\n",
        "Kaldi Pitch feature [1] is pitch detection mechanism tuned for ASR\n",
        "application. This is a beta feature in torchaudio, and only\n",
        "``functional`` form is available.\n",
        "\n",
        "1. A pitch extraction algorithm tuned for automatic speech recognition\n",
        "\n",
        "   Ghahremani, B. BabaAli, D. Povey, K. Riedhammer, J. Trmal and S.\n",
        "   Khudanpur\n",
        "\n",
        "   2014 IEEE International Conference on Acoustics, Speech and Signal\n",
        "   Processing (ICASSP), Florence, 2014, pp. 2494-2498, doi:\n",
        "   10.1109/ICASSP.2014.6854049.\n",
        "   [`abstract <https://ieeexplore.ieee.org/document/6854049>`__],\n",
        "   [`paper <https://danielpovey.com/files/2014_icassp_pitch.pdf>`__]\n",
        "\n",
        "\n"
      ]
    },
    {
      "cell_type": "code",
      "execution_count": null,
      "metadata": {
        "id": "QTgZlZFl224l"
      },
      "outputs": [],
      "source": [
        "waveform, sample_rate = get_speech_sample(resample=16000)\n",
        "\n",
        "pitch_feature = F.compute_kaldi_pitch(waveform, sample_rate)\n",
        "pitch, nfcc = pitch_feature[..., 0], pitch_feature[..., 1]\n",
        "\n",
        "plot_kaldi_pitch(waveform, sample_rate, pitch, nfcc)\n",
        "play_audio(waveform, sample_rate)"
      ]
    },
    {
      "cell_type": "markdown",
      "metadata": {
        "id": "6b3LC27h224l"
      },
      "source": [
        "Feature Augmentation\n",
        "====================\n",
        "\n",
        "\n"
      ]
    },
    {
      "cell_type": "markdown",
      "metadata": {
        "id": "5GEgQdbk224l"
      },
      "source": [
        "SpecAugment\n",
        "-----------\n",
        "\n",
        "`SpecAugment <https://ai.googleblog.com/2019/04/specaugment-new-data-augmentation.html>`__\n",
        "is a popular augmentation technique applied on spectrogram.\n",
        "\n",
        "``torchaudio`` implements ``TimeStrech``, ``TimeMasking`` and\n",
        "``FrequencyMasking``.\n",
        "\n",
        "\n"
      ]
    },
    {
      "cell_type": "markdown",
      "metadata": {
        "id": "f0TW1sQG224l"
      },
      "source": [
        "TimeStrech\n",
        "~~~~~~~~~~\n",
        "\n",
        "\n"
      ]
    },
    {
      "cell_type": "code",
      "execution_count": null,
      "metadata": {
        "id": "r-hS3AVD224l"
      },
      "outputs": [],
      "source": [
        "spec = get_spectrogram(power=None)\n",
        "strech = T.TimeStretch()\n",
        "\n",
        "rate = 1.2\n",
        "spec_ = strech(spec, rate)\n",
        "plot_spectrogram(spec_[0].abs(), title=f\"Stretched x{rate}\", aspect='equal', xmax=304)\n",
        "\n",
        "plot_spectrogram(spec[0].abs(), title=\"Original\", aspect='equal', xmax=304)\n",
        "\n",
        "rate = 0.9\n",
        "spec_ = strech(spec, rate)\n",
        "plot_spectrogram(spec_[0].abs(), title=f\"Stretched x{rate}\", aspect='equal', xmax=304)"
      ]
    },
    {
      "cell_type": "markdown",
      "metadata": {
        "id": "4HmMBVva224l"
      },
      "source": [
        "TimeMasking\n",
        "~~~~~~~~~~~\n",
        "\n",
        "\n"
      ]
    },
    {
      "cell_type": "code",
      "execution_count": null,
      "metadata": {
        "id": "DN6SAHWE224l"
      },
      "outputs": [],
      "source": [
        "torch.random.manual_seed(4)\n",
        "\n",
        "spec = get_spectrogram()\n",
        "plot_spectrogram(spec[0], title=\"Original\")\n",
        "\n",
        "masking = T.TimeMasking(time_mask_param=80)\n",
        "spec = masking(spec)\n",
        "\n",
        "plot_spectrogram(spec[0], title=\"Masked along time axis\")"
      ]
    },
    {
      "cell_type": "markdown",
      "metadata": {
        "id": "EqfWrpVd224l"
      },
      "source": [
        "FrequencyMasking\n",
        "~~~~~~~~~~~~~~~~\n",
        "\n",
        "\n"
      ]
    },
    {
      "cell_type": "code",
      "execution_count": null,
      "metadata": {
        "id": "mJCsmnFQ224l"
      },
      "outputs": [],
      "source": [
        "torch.random.manual_seed(4)\n",
        "\n",
        "spec = get_spectrogram()\n",
        "plot_spectrogram(spec[0], title=\"Original\")\n",
        "\n",
        "masking = T.FrequencyMasking(freq_mask_param=80)\n",
        "spec = masking(spec)\n",
        "\n",
        "plot_spectrogram(spec[0], title=\"Masked along frequency axis\")"
      ]
    },
    {
      "cell_type": "markdown",
      "metadata": {
        "id": "rYycCcz_224l"
      },
      "source": [
        "Datasets\n",
        "========\n",
        "\n",
        "``torchaudio`` provides easy access to common, publicly accessible\n",
        "datasets. Please checkout the official documentation for the list of\n",
        "available datasets.\n",
        "\n",
        "Here, we take ``YESNO`` dataset and look into how to use it.\n",
        "\n",
        "\n"
      ]
    },
    {
      "cell_type": "code",
      "execution_count": null,
      "metadata": {
        "id": "zH8I4EpI224l"
      },
      "outputs": [],
      "source": [
        "YESNO_DOWNLOAD_PROCESS.join()\n",
        "\n",
        "dataset = torchaudio.datasets.YESNO(YESNO_DATASET_PATH, download=True)\n",
        "\n",
        "for i in [1, 3, 5]:\n",
        "  waveform, sample_rate, label = dataset[i]\n",
        "  plot_specgram(waveform, sample_rate, title=f\"Sample {i}: {label}\")\n",
        "  play_audio(waveform, sample_rate)"
      ]
    }
  ],
  "metadata": {
    "kernelspec": {
      "display_name": "Python 3",
      "language": "python",
      "name": "python3"
    },
    "language_info": {
      "codemirror_mode": {
        "name": "ipython",
        "version": 3
      },
      "file_extension": ".py",
      "mimetype": "text/x-python",
      "name": "python",
      "nbconvert_exporter": "python",
      "pygments_lexer": "ipython3",
      "version": "3.6.13"
    },
    "colab": {
      "provenance": []
    }
  },
  "nbformat": 4,
  "nbformat_minor": 0
}